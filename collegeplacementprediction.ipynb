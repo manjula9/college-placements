{
  "nbformat": 4,
  "nbformat_minor": 0,
  "metadata": {
    "colab": {
      "provenance": [],
      "authorship_tag": "ABX9TyORVBpu6JogxNkahBIzMjfh",
      "include_colab_link": true
    },
    "kernelspec": {
      "name": "python3",
      "display_name": "Python 3"
    },
    "language_info": {
      "name": "python"
    }
  },
  "cells": [
    {
      "cell_type": "markdown",
      "metadata": {
        "id": "view-in-github",
        "colab_type": "text"
      },
      "source": [
        "<a href=\"https://colab.research.google.com/github/manjula9/college-placements/blob/main/collegeplacementprediction.ipynb\" target=\"_parent\"><img src=\"https://colab.research.google.com/assets/colab-badge.svg\" alt=\"Open In Colab\"/></a>"
      ]
    },
    {
      "cell_type": "markdown",
      "source": [
        "## **Title of project**"
      ],
      "metadata": {
        "id": "3dwZiD40rP0K"
      }
    },
    {
      "cell_type": "markdown",
      "source": [
        "**College placement prediction**"
      ],
      "metadata": {
        "id": "Bi4oq2EIsaNo"
      }
    },
    {
      "cell_type": "markdown",
      "source": [
        "## **Objective**"
      ],
      "metadata": {
        "id": "mmDMbDUbsrcX"
      }
    },
    {
      "cell_type": "markdown",
      "source": [
        "Develop a predictive model for college placement that considers academic performance, skills, and internships to assist students in career planning and improve the efficiency of the placement process.\n"
      ],
      "metadata": {
        "id": "hny1CHOatJQL"
      }
    },
    {
      "cell_type": "markdown",
      "source": [
        "## **Import library**"
      ],
      "metadata": {
        "id": "zEfRM2fbtDrj"
      }
    },
    {
      "cell_type": "code",
      "execution_count": null,
      "metadata": {
        "id": "Fx8HZfS0dr7V"
      },
      "outputs": [],
      "source": [
        "import pandas as pd\n"
      ]
    },
    {
      "cell_type": "markdown",
      "source": [
        "## **Import data**"
      ],
      "metadata": {
        "id": "X0IDVcYVwcop"
      }
    },
    {
      "cell_type": "code",
      "source": [
        "student=pd.read_csv('https://github.com/manjula9/college-placements/raw/main/collegePlace.csv')"
      ],
      "metadata": {
        "id": "EXRLUTkafXhV"
      },
      "execution_count": null,
      "outputs": []
    },
    {
      "cell_type": "markdown",
      "source": [
        "## **Data visualization**"
      ],
      "metadata": {
        "id": "n-lrrotow5Cp"
      }
    },
    {
      "cell_type": "code",
      "source": [
        "student.head()"
      ],
      "metadata": {
        "colab": {
          "base_uri": "https://localhost:8080/",
          "height": 206
        },
        "id": "bGA9BVNZn1iK",
        "outputId": "44c9d858-7522-444f-c802-56c4d143be04"
      },
      "execution_count": null,
      "outputs": [
        {
          "output_type": "execute_result",
          "data": {
            "text/plain": [
              "   Age  Gender                         Stream  Internships  CGPA  Hostel  \\\n",
              "0   22    Male  Electronics And Communication            1     8       1   \n",
              "1   21  Female               Computer Science            0     7       1   \n",
              "2   22  Female         Information Technology            1     6       0   \n",
              "3   21    Male         Information Technology            0     8       0   \n",
              "4   22    Male                     Mechanical            0     8       1   \n",
              "\n",
              "   HistoryOfBacklogs  PlacedOrNot  \n",
              "0                  1            1  \n",
              "1                  1            1  \n",
              "2                  0            1  \n",
              "3                  1            1  \n",
              "4                  0            1  "
            ],
            "text/html": [
              "\n",
              "  <div id=\"df-13a0ea63-7752-4ba5-a7f7-a0cdd3121499\" class=\"colab-df-container\">\n",
              "    <div>\n",
              "<style scoped>\n",
              "    .dataframe tbody tr th:only-of-type {\n",
              "        vertical-align: middle;\n",
              "    }\n",
              "\n",
              "    .dataframe tbody tr th {\n",
              "        vertical-align: top;\n",
              "    }\n",
              "\n",
              "    .dataframe thead th {\n",
              "        text-align: right;\n",
              "    }\n",
              "</style>\n",
              "<table border=\"1\" class=\"dataframe\">\n",
              "  <thead>\n",
              "    <tr style=\"text-align: right;\">\n",
              "      <th></th>\n",
              "      <th>Age</th>\n",
              "      <th>Gender</th>\n",
              "      <th>Stream</th>\n",
              "      <th>Internships</th>\n",
              "      <th>CGPA</th>\n",
              "      <th>Hostel</th>\n",
              "      <th>HistoryOfBacklogs</th>\n",
              "      <th>PlacedOrNot</th>\n",
              "    </tr>\n",
              "  </thead>\n",
              "  <tbody>\n",
              "    <tr>\n",
              "      <th>0</th>\n",
              "      <td>22</td>\n",
              "      <td>Male</td>\n",
              "      <td>Electronics And Communication</td>\n",
              "      <td>1</td>\n",
              "      <td>8</td>\n",
              "      <td>1</td>\n",
              "      <td>1</td>\n",
              "      <td>1</td>\n",
              "    </tr>\n",
              "    <tr>\n",
              "      <th>1</th>\n",
              "      <td>21</td>\n",
              "      <td>Female</td>\n",
              "      <td>Computer Science</td>\n",
              "      <td>0</td>\n",
              "      <td>7</td>\n",
              "      <td>1</td>\n",
              "      <td>1</td>\n",
              "      <td>1</td>\n",
              "    </tr>\n",
              "    <tr>\n",
              "      <th>2</th>\n",
              "      <td>22</td>\n",
              "      <td>Female</td>\n",
              "      <td>Information Technology</td>\n",
              "      <td>1</td>\n",
              "      <td>6</td>\n",
              "      <td>0</td>\n",
              "      <td>0</td>\n",
              "      <td>1</td>\n",
              "    </tr>\n",
              "    <tr>\n",
              "      <th>3</th>\n",
              "      <td>21</td>\n",
              "      <td>Male</td>\n",
              "      <td>Information Technology</td>\n",
              "      <td>0</td>\n",
              "      <td>8</td>\n",
              "      <td>0</td>\n",
              "      <td>1</td>\n",
              "      <td>1</td>\n",
              "    </tr>\n",
              "    <tr>\n",
              "      <th>4</th>\n",
              "      <td>22</td>\n",
              "      <td>Male</td>\n",
              "      <td>Mechanical</td>\n",
              "      <td>0</td>\n",
              "      <td>8</td>\n",
              "      <td>1</td>\n",
              "      <td>0</td>\n",
              "      <td>1</td>\n",
              "    </tr>\n",
              "  </tbody>\n",
              "</table>\n",
              "</div>\n",
              "    <div class=\"colab-df-buttons\">\n",
              "\n",
              "  <div class=\"colab-df-container\">\n",
              "    <button class=\"colab-df-convert\" onclick=\"convertToInteractive('df-13a0ea63-7752-4ba5-a7f7-a0cdd3121499')\"\n",
              "            title=\"Convert this dataframe to an interactive table.\"\n",
              "            style=\"display:none;\">\n",
              "\n",
              "  <svg xmlns=\"http://www.w3.org/2000/svg\" height=\"24px\" viewBox=\"0 -960 960 960\">\n",
              "    <path d=\"M120-120v-720h720v720H120Zm60-500h600v-160H180v160Zm220 220h160v-160H400v160Zm0 220h160v-160H400v160ZM180-400h160v-160H180v160Zm440 0h160v-160H620v160ZM180-180h160v-160H180v160Zm440 0h160v-160H620v160Z\"/>\n",
              "  </svg>\n",
              "    </button>\n",
              "\n",
              "  <style>\n",
              "    .colab-df-container {\n",
              "      display:flex;\n",
              "      gap: 12px;\n",
              "    }\n",
              "\n",
              "    .colab-df-convert {\n",
              "      background-color: #E8F0FE;\n",
              "      border: none;\n",
              "      border-radius: 50%;\n",
              "      cursor: pointer;\n",
              "      display: none;\n",
              "      fill: #1967D2;\n",
              "      height: 32px;\n",
              "      padding: 0 0 0 0;\n",
              "      width: 32px;\n",
              "    }\n",
              "\n",
              "    .colab-df-convert:hover {\n",
              "      background-color: #E2EBFA;\n",
              "      box-shadow: 0px 1px 2px rgba(60, 64, 67, 0.3), 0px 1px 3px 1px rgba(60, 64, 67, 0.15);\n",
              "      fill: #174EA6;\n",
              "    }\n",
              "\n",
              "    .colab-df-buttons div {\n",
              "      margin-bottom: 4px;\n",
              "    }\n",
              "\n",
              "    [theme=dark] .colab-df-convert {\n",
              "      background-color: #3B4455;\n",
              "      fill: #D2E3FC;\n",
              "    }\n",
              "\n",
              "    [theme=dark] .colab-df-convert:hover {\n",
              "      background-color: #434B5C;\n",
              "      box-shadow: 0px 1px 3px 1px rgba(0, 0, 0, 0.15);\n",
              "      filter: drop-shadow(0px 1px 2px rgba(0, 0, 0, 0.3));\n",
              "      fill: #FFFFFF;\n",
              "    }\n",
              "  </style>\n",
              "\n",
              "    <script>\n",
              "      const buttonEl =\n",
              "        document.querySelector('#df-13a0ea63-7752-4ba5-a7f7-a0cdd3121499 button.colab-df-convert');\n",
              "      buttonEl.style.display =\n",
              "        google.colab.kernel.accessAllowed ? 'block' : 'none';\n",
              "\n",
              "      async function convertToInteractive(key) {\n",
              "        const element = document.querySelector('#df-13a0ea63-7752-4ba5-a7f7-a0cdd3121499');\n",
              "        const dataTable =\n",
              "          await google.colab.kernel.invokeFunction('convertToInteractive',\n",
              "                                                    [key], {});\n",
              "        if (!dataTable) return;\n",
              "\n",
              "        const docLinkHtml = 'Like what you see? Visit the ' +\n",
              "          '<a target=\"_blank\" href=https://colab.research.google.com/notebooks/data_table.ipynb>data table notebook</a>'\n",
              "          + ' to learn more about interactive tables.';\n",
              "        element.innerHTML = '';\n",
              "        dataTable['output_type'] = 'display_data';\n",
              "        await google.colab.output.renderOutput(dataTable, element);\n",
              "        const docLink = document.createElement('div');\n",
              "        docLink.innerHTML = docLinkHtml;\n",
              "        element.appendChild(docLink);\n",
              "      }\n",
              "    </script>\n",
              "  </div>\n",
              "\n",
              "\n",
              "<div id=\"df-e5ca884e-a5b2-49b1-a200-aeffb42c7285\">\n",
              "  <button class=\"colab-df-quickchart\" onclick=\"quickchart('df-e5ca884e-a5b2-49b1-a200-aeffb42c7285')\"\n",
              "            title=\"Suggest charts.\"\n",
              "            style=\"display:none;\">\n",
              "\n",
              "<svg xmlns=\"http://www.w3.org/2000/svg\" height=\"24px\"viewBox=\"0 0 24 24\"\n",
              "     width=\"24px\">\n",
              "    <g>\n",
              "        <path d=\"M19 3H5c-1.1 0-2 .9-2 2v14c0 1.1.9 2 2 2h14c1.1 0 2-.9 2-2V5c0-1.1-.9-2-2-2zM9 17H7v-7h2v7zm4 0h-2V7h2v10zm4 0h-2v-4h2v4z\"/>\n",
              "    </g>\n",
              "</svg>\n",
              "  </button>\n",
              "\n",
              "<style>\n",
              "  .colab-df-quickchart {\n",
              "      --bg-color: #E8F0FE;\n",
              "      --fill-color: #1967D2;\n",
              "      --hover-bg-color: #E2EBFA;\n",
              "      --hover-fill-color: #174EA6;\n",
              "      --disabled-fill-color: #AAA;\n",
              "      --disabled-bg-color: #DDD;\n",
              "  }\n",
              "\n",
              "  [theme=dark] .colab-df-quickchart {\n",
              "      --bg-color: #3B4455;\n",
              "      --fill-color: #D2E3FC;\n",
              "      --hover-bg-color: #434B5C;\n",
              "      --hover-fill-color: #FFFFFF;\n",
              "      --disabled-bg-color: #3B4455;\n",
              "      --disabled-fill-color: #666;\n",
              "  }\n",
              "\n",
              "  .colab-df-quickchart {\n",
              "    background-color: var(--bg-color);\n",
              "    border: none;\n",
              "    border-radius: 50%;\n",
              "    cursor: pointer;\n",
              "    display: none;\n",
              "    fill: var(--fill-color);\n",
              "    height: 32px;\n",
              "    padding: 0;\n",
              "    width: 32px;\n",
              "  }\n",
              "\n",
              "  .colab-df-quickchart:hover {\n",
              "    background-color: var(--hover-bg-color);\n",
              "    box-shadow: 0 1px 2px rgba(60, 64, 67, 0.3), 0 1px 3px 1px rgba(60, 64, 67, 0.15);\n",
              "    fill: var(--button-hover-fill-color);\n",
              "  }\n",
              "\n",
              "  .colab-df-quickchart-complete:disabled,\n",
              "  .colab-df-quickchart-complete:disabled:hover {\n",
              "    background-color: var(--disabled-bg-color);\n",
              "    fill: var(--disabled-fill-color);\n",
              "    box-shadow: none;\n",
              "  }\n",
              "\n",
              "  .colab-df-spinner {\n",
              "    border: 2px solid var(--fill-color);\n",
              "    border-color: transparent;\n",
              "    border-bottom-color: var(--fill-color);\n",
              "    animation:\n",
              "      spin 1s steps(1) infinite;\n",
              "  }\n",
              "\n",
              "  @keyframes spin {\n",
              "    0% {\n",
              "      border-color: transparent;\n",
              "      border-bottom-color: var(--fill-color);\n",
              "      border-left-color: var(--fill-color);\n",
              "    }\n",
              "    20% {\n",
              "      border-color: transparent;\n",
              "      border-left-color: var(--fill-color);\n",
              "      border-top-color: var(--fill-color);\n",
              "    }\n",
              "    30% {\n",
              "      border-color: transparent;\n",
              "      border-left-color: var(--fill-color);\n",
              "      border-top-color: var(--fill-color);\n",
              "      border-right-color: var(--fill-color);\n",
              "    }\n",
              "    40% {\n",
              "      border-color: transparent;\n",
              "      border-right-color: var(--fill-color);\n",
              "      border-top-color: var(--fill-color);\n",
              "    }\n",
              "    60% {\n",
              "      border-color: transparent;\n",
              "      border-right-color: var(--fill-color);\n",
              "    }\n",
              "    80% {\n",
              "      border-color: transparent;\n",
              "      border-right-color: var(--fill-color);\n",
              "      border-bottom-color: var(--fill-color);\n",
              "    }\n",
              "    90% {\n",
              "      border-color: transparent;\n",
              "      border-bottom-color: var(--fill-color);\n",
              "    }\n",
              "  }\n",
              "</style>\n",
              "\n",
              "  <script>\n",
              "    async function quickchart(key) {\n",
              "      const quickchartButtonEl =\n",
              "        document.querySelector('#' + key + ' button');\n",
              "      quickchartButtonEl.disabled = true;  // To prevent multiple clicks.\n",
              "      quickchartButtonEl.classList.add('colab-df-spinner');\n",
              "      try {\n",
              "        const charts = await google.colab.kernel.invokeFunction(\n",
              "            'suggestCharts', [key], {});\n",
              "      } catch (error) {\n",
              "        console.error('Error during call to suggestCharts:', error);\n",
              "      }\n",
              "      quickchartButtonEl.classList.remove('colab-df-spinner');\n",
              "      quickchartButtonEl.classList.add('colab-df-quickchart-complete');\n",
              "    }\n",
              "    (() => {\n",
              "      let quickchartButtonEl =\n",
              "        document.querySelector('#df-e5ca884e-a5b2-49b1-a200-aeffb42c7285 button');\n",
              "      quickchartButtonEl.style.display =\n",
              "        google.colab.kernel.accessAllowed ? 'block' : 'none';\n",
              "    })();\n",
              "  </script>\n",
              "</div>\n",
              "    </div>\n",
              "  </div>\n"
            ]
          },
          "metadata": {},
          "execution_count": 3
        }
      ]
    },
    {
      "cell_type": "markdown",
      "source": [
        "## **Data information**"
      ],
      "metadata": {
        "id": "WX6rTnUawxSj"
      }
    },
    {
      "cell_type": "code",
      "source": [
        "student.info()"
      ],
      "metadata": {
        "colab": {
          "base_uri": "https://localhost:8080/"
        },
        "id": "gkBGp9vdf3Uq",
        "outputId": "c059e13c-4804-4a48-83a5-9f0011f30a76"
      },
      "execution_count": null,
      "outputs": [
        {
          "output_type": "stream",
          "name": "stdout",
          "text": [
            "<class 'pandas.core.frame.DataFrame'>\n",
            "RangeIndex: 2966 entries, 0 to 2965\n",
            "Data columns (total 8 columns):\n",
            " #   Column             Non-Null Count  Dtype \n",
            "---  ------             --------------  ----- \n",
            " 0   Age                2966 non-null   int64 \n",
            " 1   Gender             2966 non-null   object\n",
            " 2   Stream             2966 non-null   object\n",
            " 3   Internships        2966 non-null   int64 \n",
            " 4   CGPA               2966 non-null   int64 \n",
            " 5   Hostel             2966 non-null   int64 \n",
            " 6   HistoryOfBacklogs  2966 non-null   int64 \n",
            " 7   PlacedOrNot        2966 non-null   int64 \n",
            "dtypes: int64(6), object(2)\n",
            "memory usage: 185.5+ KB\n"
          ]
        }
      ]
    },
    {
      "cell_type": "markdown",
      "source": [
        "## **Describe data**"
      ],
      "metadata": {
        "id": "ey2lhDAwwrXt"
      }
    },
    {
      "cell_type": "code",
      "source": [
        "student.describe()"
      ],
      "metadata": {
        "colab": {
          "base_uri": "https://localhost:8080/",
          "height": 300
        },
        "id": "FARz-Yndn--Q",
        "outputId": "bd613707-5419-4dba-ffee-8cd8b0a8a6e3"
      },
      "execution_count": null,
      "outputs": [
        {
          "output_type": "execute_result",
          "data": {
            "text/plain": [
              "               Age  Internships         CGPA       Hostel  HistoryOfBacklogs  \\\n",
              "count  2966.000000  2966.000000  2966.000000  2966.000000        2966.000000   \n",
              "mean     21.485840     0.703641     7.073837     0.269049           0.192178   \n",
              "std       1.324933     0.740197     0.967748     0.443540           0.394079   \n",
              "min      19.000000     0.000000     5.000000     0.000000           0.000000   \n",
              "25%      21.000000     0.000000     6.000000     0.000000           0.000000   \n",
              "50%      21.000000     1.000000     7.000000     0.000000           0.000000   \n",
              "75%      22.000000     1.000000     8.000000     1.000000           0.000000   \n",
              "max      30.000000     3.000000     9.000000     1.000000           1.000000   \n",
              "\n",
              "       PlacedOrNot  \n",
              "count  2966.000000  \n",
              "mean      0.552596  \n",
              "std       0.497310  \n",
              "min       0.000000  \n",
              "25%       0.000000  \n",
              "50%       1.000000  \n",
              "75%       1.000000  \n",
              "max       1.000000  "
            ],
            "text/html": [
              "\n",
              "  <div id=\"df-eb23c7c1-e5fe-44af-b500-e0cad14723ca\" class=\"colab-df-container\">\n",
              "    <div>\n",
              "<style scoped>\n",
              "    .dataframe tbody tr th:only-of-type {\n",
              "        vertical-align: middle;\n",
              "    }\n",
              "\n",
              "    .dataframe tbody tr th {\n",
              "        vertical-align: top;\n",
              "    }\n",
              "\n",
              "    .dataframe thead th {\n",
              "        text-align: right;\n",
              "    }\n",
              "</style>\n",
              "<table border=\"1\" class=\"dataframe\">\n",
              "  <thead>\n",
              "    <tr style=\"text-align: right;\">\n",
              "      <th></th>\n",
              "      <th>Age</th>\n",
              "      <th>Internships</th>\n",
              "      <th>CGPA</th>\n",
              "      <th>Hostel</th>\n",
              "      <th>HistoryOfBacklogs</th>\n",
              "      <th>PlacedOrNot</th>\n",
              "    </tr>\n",
              "  </thead>\n",
              "  <tbody>\n",
              "    <tr>\n",
              "      <th>count</th>\n",
              "      <td>2966.000000</td>\n",
              "      <td>2966.000000</td>\n",
              "      <td>2966.000000</td>\n",
              "      <td>2966.000000</td>\n",
              "      <td>2966.000000</td>\n",
              "      <td>2966.000000</td>\n",
              "    </tr>\n",
              "    <tr>\n",
              "      <th>mean</th>\n",
              "      <td>21.485840</td>\n",
              "      <td>0.703641</td>\n",
              "      <td>7.073837</td>\n",
              "      <td>0.269049</td>\n",
              "      <td>0.192178</td>\n",
              "      <td>0.552596</td>\n",
              "    </tr>\n",
              "    <tr>\n",
              "      <th>std</th>\n",
              "      <td>1.324933</td>\n",
              "      <td>0.740197</td>\n",
              "      <td>0.967748</td>\n",
              "      <td>0.443540</td>\n",
              "      <td>0.394079</td>\n",
              "      <td>0.497310</td>\n",
              "    </tr>\n",
              "    <tr>\n",
              "      <th>min</th>\n",
              "      <td>19.000000</td>\n",
              "      <td>0.000000</td>\n",
              "      <td>5.000000</td>\n",
              "      <td>0.000000</td>\n",
              "      <td>0.000000</td>\n",
              "      <td>0.000000</td>\n",
              "    </tr>\n",
              "    <tr>\n",
              "      <th>25%</th>\n",
              "      <td>21.000000</td>\n",
              "      <td>0.000000</td>\n",
              "      <td>6.000000</td>\n",
              "      <td>0.000000</td>\n",
              "      <td>0.000000</td>\n",
              "      <td>0.000000</td>\n",
              "    </tr>\n",
              "    <tr>\n",
              "      <th>50%</th>\n",
              "      <td>21.000000</td>\n",
              "      <td>1.000000</td>\n",
              "      <td>7.000000</td>\n",
              "      <td>0.000000</td>\n",
              "      <td>0.000000</td>\n",
              "      <td>1.000000</td>\n",
              "    </tr>\n",
              "    <tr>\n",
              "      <th>75%</th>\n",
              "      <td>22.000000</td>\n",
              "      <td>1.000000</td>\n",
              "      <td>8.000000</td>\n",
              "      <td>1.000000</td>\n",
              "      <td>0.000000</td>\n",
              "      <td>1.000000</td>\n",
              "    </tr>\n",
              "    <tr>\n",
              "      <th>max</th>\n",
              "      <td>30.000000</td>\n",
              "      <td>3.000000</td>\n",
              "      <td>9.000000</td>\n",
              "      <td>1.000000</td>\n",
              "      <td>1.000000</td>\n",
              "      <td>1.000000</td>\n",
              "    </tr>\n",
              "  </tbody>\n",
              "</table>\n",
              "</div>\n",
              "    <div class=\"colab-df-buttons\">\n",
              "\n",
              "  <div class=\"colab-df-container\">\n",
              "    <button class=\"colab-df-convert\" onclick=\"convertToInteractive('df-eb23c7c1-e5fe-44af-b500-e0cad14723ca')\"\n",
              "            title=\"Convert this dataframe to an interactive table.\"\n",
              "            style=\"display:none;\">\n",
              "\n",
              "  <svg xmlns=\"http://www.w3.org/2000/svg\" height=\"24px\" viewBox=\"0 -960 960 960\">\n",
              "    <path d=\"M120-120v-720h720v720H120Zm60-500h600v-160H180v160Zm220 220h160v-160H400v160Zm0 220h160v-160H400v160ZM180-400h160v-160H180v160Zm440 0h160v-160H620v160ZM180-180h160v-160H180v160Zm440 0h160v-160H620v160Z\"/>\n",
              "  </svg>\n",
              "    </button>\n",
              "\n",
              "  <style>\n",
              "    .colab-df-container {\n",
              "      display:flex;\n",
              "      gap: 12px;\n",
              "    }\n",
              "\n",
              "    .colab-df-convert {\n",
              "      background-color: #E8F0FE;\n",
              "      border: none;\n",
              "      border-radius: 50%;\n",
              "      cursor: pointer;\n",
              "      display: none;\n",
              "      fill: #1967D2;\n",
              "      height: 32px;\n",
              "      padding: 0 0 0 0;\n",
              "      width: 32px;\n",
              "    }\n",
              "\n",
              "    .colab-df-convert:hover {\n",
              "      background-color: #E2EBFA;\n",
              "      box-shadow: 0px 1px 2px rgba(60, 64, 67, 0.3), 0px 1px 3px 1px rgba(60, 64, 67, 0.15);\n",
              "      fill: #174EA6;\n",
              "    }\n",
              "\n",
              "    .colab-df-buttons div {\n",
              "      margin-bottom: 4px;\n",
              "    }\n",
              "\n",
              "    [theme=dark] .colab-df-convert {\n",
              "      background-color: #3B4455;\n",
              "      fill: #D2E3FC;\n",
              "    }\n",
              "\n",
              "    [theme=dark] .colab-df-convert:hover {\n",
              "      background-color: #434B5C;\n",
              "      box-shadow: 0px 1px 3px 1px rgba(0, 0, 0, 0.15);\n",
              "      filter: drop-shadow(0px 1px 2px rgba(0, 0, 0, 0.3));\n",
              "      fill: #FFFFFF;\n",
              "    }\n",
              "  </style>\n",
              "\n",
              "    <script>\n",
              "      const buttonEl =\n",
              "        document.querySelector('#df-eb23c7c1-e5fe-44af-b500-e0cad14723ca button.colab-df-convert');\n",
              "      buttonEl.style.display =\n",
              "        google.colab.kernel.accessAllowed ? 'block' : 'none';\n",
              "\n",
              "      async function convertToInteractive(key) {\n",
              "        const element = document.querySelector('#df-eb23c7c1-e5fe-44af-b500-e0cad14723ca');\n",
              "        const dataTable =\n",
              "          await google.colab.kernel.invokeFunction('convertToInteractive',\n",
              "                                                    [key], {});\n",
              "        if (!dataTable) return;\n",
              "\n",
              "        const docLinkHtml = 'Like what you see? Visit the ' +\n",
              "          '<a target=\"_blank\" href=https://colab.research.google.com/notebooks/data_table.ipynb>data table notebook</a>'\n",
              "          + ' to learn more about interactive tables.';\n",
              "        element.innerHTML = '';\n",
              "        dataTable['output_type'] = 'display_data';\n",
              "        await google.colab.output.renderOutput(dataTable, element);\n",
              "        const docLink = document.createElement('div');\n",
              "        docLink.innerHTML = docLinkHtml;\n",
              "        element.appendChild(docLink);\n",
              "      }\n",
              "    </script>\n",
              "  </div>\n",
              "\n",
              "\n",
              "<div id=\"df-06020acd-e5ec-40d0-9445-b808e6cd349a\">\n",
              "  <button class=\"colab-df-quickchart\" onclick=\"quickchart('df-06020acd-e5ec-40d0-9445-b808e6cd349a')\"\n",
              "            title=\"Suggest charts.\"\n",
              "            style=\"display:none;\">\n",
              "\n",
              "<svg xmlns=\"http://www.w3.org/2000/svg\" height=\"24px\"viewBox=\"0 0 24 24\"\n",
              "     width=\"24px\">\n",
              "    <g>\n",
              "        <path d=\"M19 3H5c-1.1 0-2 .9-2 2v14c0 1.1.9 2 2 2h14c1.1 0 2-.9 2-2V5c0-1.1-.9-2-2-2zM9 17H7v-7h2v7zm4 0h-2V7h2v10zm4 0h-2v-4h2v4z\"/>\n",
              "    </g>\n",
              "</svg>\n",
              "  </button>\n",
              "\n",
              "<style>\n",
              "  .colab-df-quickchart {\n",
              "      --bg-color: #E8F0FE;\n",
              "      --fill-color: #1967D2;\n",
              "      --hover-bg-color: #E2EBFA;\n",
              "      --hover-fill-color: #174EA6;\n",
              "      --disabled-fill-color: #AAA;\n",
              "      --disabled-bg-color: #DDD;\n",
              "  }\n",
              "\n",
              "  [theme=dark] .colab-df-quickchart {\n",
              "      --bg-color: #3B4455;\n",
              "      --fill-color: #D2E3FC;\n",
              "      --hover-bg-color: #434B5C;\n",
              "      --hover-fill-color: #FFFFFF;\n",
              "      --disabled-bg-color: #3B4455;\n",
              "      --disabled-fill-color: #666;\n",
              "  }\n",
              "\n",
              "  .colab-df-quickchart {\n",
              "    background-color: var(--bg-color);\n",
              "    border: none;\n",
              "    border-radius: 50%;\n",
              "    cursor: pointer;\n",
              "    display: none;\n",
              "    fill: var(--fill-color);\n",
              "    height: 32px;\n",
              "    padding: 0;\n",
              "    width: 32px;\n",
              "  }\n",
              "\n",
              "  .colab-df-quickchart:hover {\n",
              "    background-color: var(--hover-bg-color);\n",
              "    box-shadow: 0 1px 2px rgba(60, 64, 67, 0.3), 0 1px 3px 1px rgba(60, 64, 67, 0.15);\n",
              "    fill: var(--button-hover-fill-color);\n",
              "  }\n",
              "\n",
              "  .colab-df-quickchart-complete:disabled,\n",
              "  .colab-df-quickchart-complete:disabled:hover {\n",
              "    background-color: var(--disabled-bg-color);\n",
              "    fill: var(--disabled-fill-color);\n",
              "    box-shadow: none;\n",
              "  }\n",
              "\n",
              "  .colab-df-spinner {\n",
              "    border: 2px solid var(--fill-color);\n",
              "    border-color: transparent;\n",
              "    border-bottom-color: var(--fill-color);\n",
              "    animation:\n",
              "      spin 1s steps(1) infinite;\n",
              "  }\n",
              "\n",
              "  @keyframes spin {\n",
              "    0% {\n",
              "      border-color: transparent;\n",
              "      border-bottom-color: var(--fill-color);\n",
              "      border-left-color: var(--fill-color);\n",
              "    }\n",
              "    20% {\n",
              "      border-color: transparent;\n",
              "      border-left-color: var(--fill-color);\n",
              "      border-top-color: var(--fill-color);\n",
              "    }\n",
              "    30% {\n",
              "      border-color: transparent;\n",
              "      border-left-color: var(--fill-color);\n",
              "      border-top-color: var(--fill-color);\n",
              "      border-right-color: var(--fill-color);\n",
              "    }\n",
              "    40% {\n",
              "      border-color: transparent;\n",
              "      border-right-color: var(--fill-color);\n",
              "      border-top-color: var(--fill-color);\n",
              "    }\n",
              "    60% {\n",
              "      border-color: transparent;\n",
              "      border-right-color: var(--fill-color);\n",
              "    }\n",
              "    80% {\n",
              "      border-color: transparent;\n",
              "      border-right-color: var(--fill-color);\n",
              "      border-bottom-color: var(--fill-color);\n",
              "    }\n",
              "    90% {\n",
              "      border-color: transparent;\n",
              "      border-bottom-color: var(--fill-color);\n",
              "    }\n",
              "  }\n",
              "</style>\n",
              "\n",
              "  <script>\n",
              "    async function quickchart(key) {\n",
              "      const quickchartButtonEl =\n",
              "        document.querySelector('#' + key + ' button');\n",
              "      quickchartButtonEl.disabled = true;  // To prevent multiple clicks.\n",
              "      quickchartButtonEl.classList.add('colab-df-spinner');\n",
              "      try {\n",
              "        const charts = await google.colab.kernel.invokeFunction(\n",
              "            'suggestCharts', [key], {});\n",
              "      } catch (error) {\n",
              "        console.error('Error during call to suggestCharts:', error);\n",
              "      }\n",
              "      quickchartButtonEl.classList.remove('colab-df-spinner');\n",
              "      quickchartButtonEl.classList.add('colab-df-quickchart-complete');\n",
              "    }\n",
              "    (() => {\n",
              "      let quickchartButtonEl =\n",
              "        document.querySelector('#df-06020acd-e5ec-40d0-9445-b808e6cd349a button');\n",
              "      quickchartButtonEl.style.display =\n",
              "        google.colab.kernel.accessAllowed ? 'block' : 'none';\n",
              "    })();\n",
              "  </script>\n",
              "</div>\n",
              "    </div>\n",
              "  </div>\n"
            ]
          },
          "metadata": {},
          "execution_count": 46
        }
      ]
    },
    {
      "cell_type": "markdown",
      "source": [
        "## **Data prepossesing**"
      ],
      "metadata": {
        "id": "EdGXK1udxLRI"
      }
    },
    {
      "cell_type": "code",
      "source": [
        "student.columns"
      ],
      "metadata": {
        "colab": {
          "base_uri": "https://localhost:8080/"
        },
        "id": "ZXMdk3FzoLlW",
        "outputId": "808e7277-c9ed-48b5-ba83-1acc814e885e"
      },
      "execution_count": null,
      "outputs": [
        {
          "output_type": "execute_result",
          "data": {
            "text/plain": [
              "Index(['Age', 'Gender', 'Stream', 'Internships', 'CGPA', 'Hostel',\n",
              "       'HistoryOfBacklogs', 'PlacedOrNot'],\n",
              "      dtype='object')"
            ]
          },
          "metadata": {},
          "execution_count": 6
        }
      ]
    },
    {
      "cell_type": "markdown",
      "source": [
        "## **Define Target Variable (y) and Feature Variables (X)**"
      ],
      "metadata": {
        "id": "tnU5JWqAxcZ9"
      }
    },
    {
      "cell_type": "code",
      "source": [
        "y=student['Age']"
      ],
      "metadata": {
        "id": "K0qzzY0zoiQ4"
      },
      "execution_count": null,
      "outputs": []
    },
    {
      "cell_type": "code",
      "source": [
        "x=student.drop( ['PlacedOrNot','Age'] ,axis=1)"
      ],
      "metadata": {
        "id": "DIPu2yu4ov57"
      },
      "execution_count": null,
      "outputs": []
    },
    {
      "cell_type": "markdown",
      "source": [
        "## **Train Test Split**"
      ],
      "metadata": {
        "id": "DiQdpYhGzhDq"
      }
    },
    {
      "cell_type": "code",
      "source": [
        "from sklearn.model_selection import train_test_split\n",
        "x_train,x_test,y_train,y_test=train_test_split(x,y, train_size=0.7, random_state=2529)"
      ],
      "metadata": {
        "id": "DcDEk79Ihrju"
      },
      "execution_count": null,
      "outputs": []
    },
    {
      "cell_type": "code",
      "source": [
        "x_train.shape, x_test.shape, y_train.shape, y_test.shape"
      ],
      "metadata": {
        "colab": {
          "base_uri": "https://localhost:8080/"
        },
        "id": "XX4ihXaMj-IL",
        "outputId": "1c88f165-8dfa-4f2f-d6cb-be23acd2f500"
      },
      "execution_count": null,
      "outputs": [
        {
          "output_type": "execute_result",
          "data": {
            "text/plain": [
              "((2076, 6), (890, 6), (2076,), (890,))"
            ]
          },
          "metadata": {},
          "execution_count": 15
        }
      ]
    },
    {
      "cell_type": "markdown",
      "source": [
        "## **Modeling**"
      ],
      "metadata": {
        "id": "40dLbfCgzvIE"
      }
    },
    {
      "cell_type": "code",
      "source": [
        "from sklearn.linear_model import LinearRegression\n",
        "model = LinearRegression()"
      ],
      "metadata": {
        "id": "uFTRt_NgkYTm"
      },
      "execution_count": null,
      "outputs": []
    },
    {
      "cell_type": "code",
      "source": [
        "from sklearn.preprocessing import OneHotEncoder\n",
        "\n",
        "encoder = OneHotEncoder()\n",
        "x_train_encoded = encoder.fit_transform(x_train)"
      ],
      "metadata": {
        "id": "McZib9PHpxlU"
      },
      "execution_count": null,
      "outputs": []
    },
    {
      "cell_type": "markdown",
      "source": [
        "## **Model Evaluation**"
      ],
      "metadata": {
        "id": "y14AWlunz4wC"
      }
    },
    {
      "cell_type": "code",
      "source": [
        "model.fit(x_train_encoded, y_train)"
      ],
      "metadata": {
        "colab": {
          "base_uri": "https://localhost:8080/",
          "height": 74
        },
        "id": "1tnHPCf7qHaO",
        "outputId": "33dbd15d-2920-421e-8d6f-1b0b14d76ef3"
      },
      "execution_count": null,
      "outputs": [
        {
          "output_type": "execute_result",
          "data": {
            "text/plain": [
              "LinearRegression()"
            ],
            "text/html": [
              "<style>#sk-container-id-2 {color: black;background-color: white;}#sk-container-id-2 pre{padding: 0;}#sk-container-id-2 div.sk-toggleable {background-color: white;}#sk-container-id-2 label.sk-toggleable__label {cursor: pointer;display: block;width: 100%;margin-bottom: 0;padding: 0.3em;box-sizing: border-box;text-align: center;}#sk-container-id-2 label.sk-toggleable__label-arrow:before {content: \"▸\";float: left;margin-right: 0.25em;color: #696969;}#sk-container-id-2 label.sk-toggleable__label-arrow:hover:before {color: black;}#sk-container-id-2 div.sk-estimator:hover label.sk-toggleable__label-arrow:before {color: black;}#sk-container-id-2 div.sk-toggleable__content {max-height: 0;max-width: 0;overflow: hidden;text-align: left;background-color: #f0f8ff;}#sk-container-id-2 div.sk-toggleable__content pre {margin: 0.2em;color: black;border-radius: 0.25em;background-color: #f0f8ff;}#sk-container-id-2 input.sk-toggleable__control:checked~div.sk-toggleable__content {max-height: 200px;max-width: 100%;overflow: auto;}#sk-container-id-2 input.sk-toggleable__control:checked~label.sk-toggleable__label-arrow:before {content: \"▾\";}#sk-container-id-2 div.sk-estimator input.sk-toggleable__control:checked~label.sk-toggleable__label {background-color: #d4ebff;}#sk-container-id-2 div.sk-label input.sk-toggleable__control:checked~label.sk-toggleable__label {background-color: #d4ebff;}#sk-container-id-2 input.sk-hidden--visually {border: 0;clip: rect(1px 1px 1px 1px);clip: rect(1px, 1px, 1px, 1px);height: 1px;margin: -1px;overflow: hidden;padding: 0;position: absolute;width: 1px;}#sk-container-id-2 div.sk-estimator {font-family: monospace;background-color: #f0f8ff;border: 1px dotted black;border-radius: 0.25em;box-sizing: border-box;margin-bottom: 0.5em;}#sk-container-id-2 div.sk-estimator:hover {background-color: #d4ebff;}#sk-container-id-2 div.sk-parallel-item::after {content: \"\";width: 100%;border-bottom: 1px solid gray;flex-grow: 1;}#sk-container-id-2 div.sk-label:hover label.sk-toggleable__label {background-color: #d4ebff;}#sk-container-id-2 div.sk-serial::before {content: \"\";position: absolute;border-left: 1px solid gray;box-sizing: border-box;top: 0;bottom: 0;left: 50%;z-index: 0;}#sk-container-id-2 div.sk-serial {display: flex;flex-direction: column;align-items: center;background-color: white;padding-right: 0.2em;padding-left: 0.2em;position: relative;}#sk-container-id-2 div.sk-item {position: relative;z-index: 1;}#sk-container-id-2 div.sk-parallel {display: flex;align-items: stretch;justify-content: center;background-color: white;position: relative;}#sk-container-id-2 div.sk-item::before, #sk-container-id-2 div.sk-parallel-item::before {content: \"\";position: absolute;border-left: 1px solid gray;box-sizing: border-box;top: 0;bottom: 0;left: 50%;z-index: -1;}#sk-container-id-2 div.sk-parallel-item {display: flex;flex-direction: column;z-index: 1;position: relative;background-color: white;}#sk-container-id-2 div.sk-parallel-item:first-child::after {align-self: flex-end;width: 50%;}#sk-container-id-2 div.sk-parallel-item:last-child::after {align-self: flex-start;width: 50%;}#sk-container-id-2 div.sk-parallel-item:only-child::after {width: 0;}#sk-container-id-2 div.sk-dashed-wrapped {border: 1px dashed gray;margin: 0 0.4em 0.5em 0.4em;box-sizing: border-box;padding-bottom: 0.4em;background-color: white;}#sk-container-id-2 div.sk-label label {font-family: monospace;font-weight: bold;display: inline-block;line-height: 1.2em;}#sk-container-id-2 div.sk-label-container {text-align: center;}#sk-container-id-2 div.sk-container {/* jupyter's `normalize.less` sets `[hidden] { display: none; }` but bootstrap.min.css set `[hidden] { display: none !important; }` so we also need the `!important` here to be able to override the default hidden behavior on the sphinx rendered scikit-learn.org. See: https://github.com/scikit-learn/scikit-learn/issues/21755 */display: inline-block !important;position: relative;}#sk-container-id-2 div.sk-text-repr-fallback {display: none;}</style><div id=\"sk-container-id-2\" class=\"sk-top-container\"><div class=\"sk-text-repr-fallback\"><pre>LinearRegression()</pre><b>In a Jupyter environment, please rerun this cell to show the HTML representation or trust the notebook. <br />On GitHub, the HTML representation is unable to render, please try loading this page with nbviewer.org.</b></div><div class=\"sk-container\" hidden><div class=\"sk-item\"><div class=\"sk-estimator sk-toggleable\"><input class=\"sk-toggleable__control sk-hidden--visually\" id=\"sk-estimator-id-2\" type=\"checkbox\" checked><label for=\"sk-estimator-id-2\" class=\"sk-toggleable__label sk-toggleable__label-arrow\">LinearRegression</label><div class=\"sk-toggleable__content\"><pre>LinearRegression()</pre></div></div></div></div></div>"
            ]
          },
          "metadata": {},
          "execution_count": 33
        }
      ]
    },
    {
      "cell_type": "code",
      "source": [
        "model.intercept_"
      ],
      "metadata": {
        "colab": {
          "base_uri": "https://localhost:8080/"
        },
        "id": "lMR-yanakquJ",
        "outputId": "62a68fe8-2d2e-451f-c4c0-11221b8290e1"
      },
      "execution_count": null,
      "outputs": [
        {
          "output_type": "execute_result",
          "data": {
            "text/plain": [
              "21.47117992511132"
            ]
          },
          "metadata": {},
          "execution_count": 34
        }
      ]
    },
    {
      "cell_type": "code",
      "source": [
        "model.coef_"
      ],
      "metadata": {
        "colab": {
          "base_uri": "https://localhost:8080/"
        },
        "id": "QLPrTBn8nF3A",
        "outputId": "946d1f09-7d06-4612-e99e-e7a3a0fa288a"
      },
      "execution_count": null,
      "outputs": [
        {
          "output_type": "execute_result",
          "data": {
            "text/plain": [
              "array([ 2.94915397e-02, -2.94915397e-02,  3.66254553e-02,  3.19215383e-02,\n",
              "       -1.81178093e-01,  1.03712821e-04,  7.16040436e-02,  4.09233431e-02,\n",
              "       -6.75833465e-02, -5.51489494e-04, -6.75218083e-02,  1.35656644e-01,\n",
              "        3.76701401e-01,  1.42049265e-01,  4.91260408e-02, -1.73076763e-01,\n",
              "       -3.94799945e-01,  1.95574981e-02, -1.95574981e-02,  9.18438252e-02,\n",
              "       -9.18438252e-02])"
            ]
          },
          "metadata": {},
          "execution_count": 35
        }
      ]
    },
    {
      "cell_type": "code",
      "source": [
        "from sklearn.preprocessing import OneHotEncoder\n",
        "x_test_encoded = encoder.transform(x_test)"
      ],
      "metadata": {
        "id": "dJIeLWsYqya8"
      },
      "execution_count": null,
      "outputs": []
    },
    {
      "cell_type": "markdown",
      "source": [
        "## **Prediction**"
      ],
      "metadata": {
        "id": "HzeRAFKvz-8K"
      }
    },
    {
      "cell_type": "code",
      "source": [
        "y_pred=model.predict(x_test_encoded)"
      ],
      "metadata": {
        "id": "3a0ECMH2qUA4"
      },
      "execution_count": null,
      "outputs": []
    },
    {
      "cell_type": "code",
      "source": [
        "y_pred"
      ],
      "metadata": {
        "colab": {
          "base_uri": "https://localhost:8080/"
        },
        "id": "nhxh4QsOrSs6",
        "outputId": "0d2a121b-e3ae-41af-e8fd-68c3417f3224"
      },
      "execution_count": null,
      "outputs": [
        {
          "output_type": "execute_result",
          "data": {
            "text/plain": [
              "array([21.75814275, 21.47188855, 21.6335858 , 21.62512762, 21.41808032,\n",
              "       21.31423795, 21.19768352, 21.47936788, 21.34441268, 21.41138299,\n",
              "       21.53473612, 21.54759113, 21.6335858 , 20.97585897, 21.63828972,\n",
              "       21.6335858 , 21.19436373, 21.50536061, 21.73968074, 21.51340939,\n",
              "       21.47188855, 21.6732683 , 21.3527531 , 21.16066349, 21.75537891,\n",
              "       21.58642202, 21.31253331, 21.69922121, 21.73225138, 21.3812698 ,\n",
              "       21.73121294, 21.75537891, 21.44025288, 21.60623645, 21.6946912 ,\n",
              "       21.69915967, 21.65947717, 21.32643546, 21.2095279 , 21.66521953,\n",
              "       21.53644075, 21.44307826, 21.53473612, 21.41978496, 20.90712248,\n",
              "       21.37151639, 21.76619153, 21.53473612, 21.41138299, 21.6946912 ,\n",
              "       21.6335858 , 21.35345431, 21.65947717, 21.63415331, 21.82517461,\n",
              "       21.4510655 , 20.97656018, 21.4510655 , 21.60176797, 21.69915967,\n",
              "       21.56655394, 21.67934525, 21.60623645, 21.72650902, 21.19023459,\n",
              "       21.3527531 , 21.6732683 , 21.41138299, 21.38403364, 21.76619153,\n",
              "       21.19828336, 21.53479765, 21.57125786, 21.44301672, 21.53644075,\n",
              "       21.60650837, 21.72707653, 21.69922121, 20.90882711, 21.29060674,\n",
              "       21.29060674, 21.69915967, 21.53644075, 21.57125786, 21.3812698 ,\n",
              "       21.35345431, 21.31259485, 21.35345431, 21.56661548, 21.38403364,\n",
              "       21.35345431, 21.34435114, 21.31423795, 21.72650902, 21.6335858 ,\n",
              "       21.66521953, 21.1305503 , 21.12268949, 21.6732683 , 21.73121294,\n",
              "       21.69915967, 21.31253331, 21.34441268, 21.13125151, 21.15954662,\n",
              "       21.5937192 , 21.72650902, 21.44637753, 21.6335858 , 21.69915967,\n",
              "       21.62936397, 21.37956517, 21.66521953, 21.53473612, 21.41138299,\n",
              "       21.89883322, 21.57555575, 21.4956576 , 21.41138299, 21.99003105,\n",
              "       21.09219805, 21.60623645, 21.34435114, 21.60623645, 21.38286629,\n",
              "       21.4225488 , 21.72650902, 21.68664242, 21.71044165, 21.58642202,\n",
              "       21.37956517, 21.31259485, 21.56268946, 21.26737785, 21.56661548,\n",
              "       21.41138299, 21.35345431, 21.12884566, 21.60623645, 21.20034599,\n",
              "       21.6732683 , 21.57239247, 20.93894031, 21.38286629, 21.35345431,\n",
              "       21.43125108, 21.38403364, 21.34441268, 21.38286629, 21.58642202,\n",
              "       21.42048617, 21.93381181, 21.73858009, 21.76619153, 21.2566666 ,\n",
              "       21.79019602, 21.38409518, 21.6732683 , 21.62765934, 21.79019602,\n",
              "       21.41138299, 21.13125151, 21.43125108, 21.37896533, 21.75814275,\n",
              "       21.16231046, 21.60623645, 21.60623645, 21.15676252, 21.41138299,\n",
              "       21.34905505, 21.4225488 , 21.41138299, 21.73551083, 21.43125108,\n",
              "       21.38286629, 21.19828336, 21.66418108, 21.4510655 , 21.60623645,\n",
              "       21.01459571, 21.62506609, 21.18965981, 21.53644075, 21.19023459,\n",
              "       21.51100355, 21.41608691, 21.3812698 , 21.96116116, 21.6732683 ,\n",
              "       21.75814275, 21.74637711, 21.31423795, 21.66521953, 21.68670396,\n",
              "       21.56655394, 20.94762539, 21.74637711, 21.62936397, 21.62936397,\n",
              "       21.69915967, 21.4510655 , 21.1305503 , 21.47578952, 21.18963474,\n",
              "       21.67940679, 21.42048617, 21.38292783, 21.49571914, 21.60347261,\n",
              "       21.50536061, 21.60176797, 21.69313639, 21.65345388, 21.94921142,\n",
              "       21.69639583, 21.34435114, 20.90952832, 21.57125786, 21.60623645,\n",
              "       21.53473612, 21.72707653, 21.12733187, 21.89419084, 21.74637711,\n",
              "       21.5713194 , 21.73551083, 21.16066349, 21.09251476, 21.51340939,\n",
              "       21.4510655 , 21.19828336, 21.6335858 , 21.82517461, 21.37151639,\n",
              "       21.36421922, 21.62942551, 21.6732683 , 21.19768352, 21.31423795,\n",
              "       21.3812698 , 21.45460206, 21.43125108, 21.72650902, 21.6335858 ,\n",
              "       21.57125786, 21.34905505, 21.76619153, 21.47946925, 21.15676252,\n",
              "       21.42261033, 21.71514557, 21.66245569, 21.18965981, 21.6732683 ,\n",
              "       21.60623645, 21.93381181, 21.4510655 , 21.60176797, 21.41138299,\n",
              "       21.6732683 , 21.63415331, 21.44637753, 21.69639583, 21.15676252,\n",
              "       21.38292783, 21.73551083, 21.16066349, 21.60176797, 21.38409518,\n",
              "       21.62765934, 21.2157456 , 21.96116116, 22.00084366, 21.41138299,\n",
              "       21.66075105, 21.6335858 , 21.41608691, 21.1305503 , 21.41138299,\n",
              "       21.60623645, 21.65345388, 21.53644075, 21.44567632, 21.66418108,\n",
              "       21.32586795, 21.51547202, 21.42048617, 21.67902951, 21.3812698 ,\n",
              "       21.6946912 , 21.6335858 , 21.67934525, 21.47188855, 21.31429948,\n",
              "       21.22769534, 21.43125108, 21.53644075, 21.16231046, 21.44637753,\n",
              "       21.60347261, 21.6335858 , 21.36421922, 21.4510655 , 21.13125151,\n",
              "       21.42048617, 21.68102967, 21.20034599, 21.20034599, 21.18965981,\n",
              "       21.25932907, 21.2492104 , 21.62772088, 21.31253331, 21.31423795,\n",
              "       21.42048617, 21.23679852, 21.38409518, 21.42261033, 21.57125786,\n",
              "       21.71944346, 21.6732683 , 21.16066349, 21.72650902, 21.57125786,\n",
              "       21.31259485, 21.3918681 , 21.93387335, 21.62936397, 21.19022732,\n",
              "       21.62765934, 21.38286629, 21.56655394, 21.44307826, 21.6335858 ,\n",
              "       21.26275142, 21.6335858 , 21.26737785, 21.4119505 , 21.6595387 ,\n",
              "       21.35345431, 21.65345388, 21.34851675, 21.74637711, 21.20034599,\n",
              "       21.72650902, 21.20040753, 21.38286629, 21.15954662, 21.66075105,\n",
              "       21.86271716, 21.60623645, 21.31253331, 21.86401611, 21.58727363,\n",
              "       20.97656018, 21.62765934, 21.69209794, 21.6732683 , 21.60347261,\n",
              "       21.88258524, 21.35345431, 21.38137117, 21.43794841, 21.68664242,\n",
              "       21.37151639, 21.3530332 , 21.47578952, 21.72650902, 21.72707653,\n",
              "       21.62506609, 21.0897922 , 21.38286629, 21.15954662, 21.82517461,\n",
              "       21.66418108, 21.41243739, 21.04565467, 21.53644075, 21.51004858,\n",
              "       21.6335858 , 21.3812698 , 21.41138299, 21.69915967, 21.53214286,\n",
              "       21.4225488 , 21.35345431, 21.76619153, 21.76619153, 21.38403364,\n",
              "       21.18965981, 21.79019602, 21.42048617, 21.31423795, 21.38403364,\n",
              "       21.41138299, 21.57125786, 21.62616607, 21.42048617, 21.34845521,\n",
              "       21.53473612, 21.54282137, 21.58642202, 21.34435114, 21.41808032,\n",
              "       21.3527531 , 21.62772088, 21.57555575, 21.53650229, 21.38286629,\n",
              "       21.57125786, 21.30994006, 21.63415331, 21.09251476, 21.23679852,\n",
              "       21.53479765, 21.34905505, 21.57125786, 21.68032846, 21.41138299,\n",
              "       22.05982674, 21.35345431, 21.38403364, 21.13125151, 21.82517461,\n",
              "       21.1307132 , 21.34435114, 21.63828972, 21.43125108, 21.68102967,\n",
              "       21.62936397, 21.32972174, 20.93503934, 21.56655394, 21.68664242,\n",
              "       21.6335858 , 21.41138299, 21.53644075, 21.6335858 , 21.60623645,\n",
              "       21.78605961, 21.85971822, 21.60347261, 21.72650902, 21.51547202,\n",
              "       21.41138299, 21.57169126, 21.60623645, 21.26268988, 21.62936397,\n",
              "       21.72650902, 21.62772088, 21.37896533, 21.65947717, 21.69922121,\n",
              "       21.73121294, 21.6732683 , 21.2957816 , 21.31433931, 21.4956576 ,\n",
              "       21.72650902, 21.41138299, 21.47578952, 21.40726254, 21.69639583,\n",
              "       21.44301672, 21.62936397, 21.38403364, 21.4119505 , 21.63415331,\n",
              "       20.87041333, 21.19768352, 21.41138299, 21.4119505 , 21.68102967,\n",
              "       21.82517461, 21.69639583, 21.25939061, 21.3812698 , 21.12625241,\n",
              "       21.73121294, 21.65345388, 21.5322044 , 21.58250388, 21.75820429,\n",
              "       21.75012416, 21.53473612, 21.60176797, 21.13125151, 21.47578952,\n",
              "       21.31259485, 21.6335858 , 21.13125151, 21.41608691, 21.31423795,\n",
              "       21.41138299, 21.44025288, 21.26737785, 21.34441268, 21.66245569,\n",
              "       21.38757021, 21.62765934, 21.4225488 , 21.76619153, 21.38403364,\n",
              "       22.00084366, 21.34441268, 21.73121294, 21.69639583, 20.97585897,\n",
              "       21.6335858 , 21.60176797, 21.72650902, 21.4119505 , 21.31253331,\n",
              "       21.76619153, 21.48153188, 21.44567632, 21.41138299, 21.31253331,\n",
              "       21.6732683 , 21.35345431, 21.51340939, 21.38757021, 21.32586795,\n",
              "       21.3527531 , 21.3812698 , 21.60623645, 20.94762539, 21.1653674 ,\n",
              "       21.72650902, 21.34435114, 21.75814275, 21.6335858 , 21.48958065,\n",
              "       21.22934232, 21.37151639, 21.44137844, 21.41138299, 21.6335858 ,\n",
              "       21.74637711, 21.66847897, 21.4119505 , 21.31423795, 21.13125151,\n",
              "       21.21423181, 21.31433931, 21.53644075, 21.65947717, 21.4119505 ,\n",
              "       21.66418108, 21.44567632, 21.65345388, 21.4225488 , 21.47578952,\n",
              "       21.6595387 , 21.31423795, 21.73121294, 21.13125151, 21.20034599,\n",
              "       21.31440085, 21.60176797, 21.75537891, 21.60176797, 21.66075105,\n",
              "       21.16066349, 21.74637711, 21.47936788, 21.51340939, 21.20034599,\n",
              "       21.6732683 , 21.63828972, 21.0897922 , 21.5937192 , 21.6335858 ,\n",
              "       21.38403364, 21.41138299, 21.44989815, 21.65947717, 21.13131304,\n",
              "       21.42048617, 21.31423795, 21.6335858 , 21.51340939, 21.6335858 ,\n",
              "       21.29138234, 21.56655394, 21.54815864, 21.3527531 , 21.51340939,\n",
              "       21.6335858 , 21.34441268, 21.65947717, 21.22135508, 21.31259485,\n",
              "       21.4510655 , 21.34441268, 21.6335858 , 21.16072503, 21.12733187,\n",
              "       21.37896533, 21.58648356, 21.5944708 , 21.41243739, 21.56661548,\n",
              "       21.32972174, 21.62936397, 21.65947717, 21.66418108, 21.72650902,\n",
              "       21.63828972, 21.44137844, 21.66418108, 21.34435114, 21.18965981,\n",
              "       21.2157456 , 21.43854825, 21.5944708 , 21.6335858 , 21.6732683 ,\n",
              "       21.56655394, 21.12625241, 21.65947717, 21.75814275, 21.4510655 ,\n",
              "       21.6732683 , 21.52491295, 21.24756343, 21.31253331, 21.64191467,\n",
              "       21.47578952, 21.41608691, 21.34435114, 21.63828972, 21.13131304,\n",
              "       21.6732683 , 21.76619153, 21.34905505, 21.56661548, 21.44637753,\n",
              "       21.60629798, 21.62765934, 21.53473612, 21.13125151, 21.1305503 ,\n",
              "       21.6946912 , 21.18965981, 21.75814275, 21.38409518, 21.5713194 ,\n",
              "       21.62936397, 21.23679852, 21.14249604, 21.6335858 , 21.3812698 ,\n",
              "       21.62936397, 21.35345431, 21.56655394, 21.4225488 , 21.37956517,\n",
              "       21.56655394, 21.69915967, 21.4225488 , 21.4510655 , 21.44025288,\n",
              "       21.82517461, 21.69639583, 21.53473612, 21.86401611, 21.6425876 ,\n",
              "       21.58642202, 21.43125108, 21.47578952, 21.53473612, 21.43125108,\n",
              "       21.60176797, 21.51340939, 21.15676252, 21.47188855, 21.69639583,\n",
              "       21.65947717, 21.6335858 , 21.72650902, 21.40732408, 21.38403364,\n",
              "       21.72650902, 21.47506999, 21.13125151, 21.38403364, 21.62942551,\n",
              "       21.54856373, 21.41138299, 21.34435114, 20.94756386, 21.19828336,\n",
              "       21.18053157, 21.12262796, 21.89883322, 21.12733187, 21.65947717,\n",
              "       21.44137844, 21.41808032, 21.72650902, 21.8941293 , 21.16072503,\n",
              "       21.47506999, 21.32972174, 21.83260397, 21.69915967, 20.97862281,\n",
              "       21.35345431, 21.56655394, 21.18965981, 21.31253331, 21.38292783,\n",
              "       21.68664242, 21.34905505, 21.62936397, 21.19587752, 21.72650902,\n",
              "       21.6335858 , 21.47578952, 21.23679852, 21.24756343, 21.66418108,\n",
              "       21.4510655 , 21.4510655 , 21.38757021, 21.23679852, 21.20034599,\n",
              "       21.34905505, 21.41138299, 21.74637711, 21.63828972, 21.34441268,\n",
              "       21.79019602, 21.6595387 , 21.69313639, 21.57555575, 21.41138299,\n",
              "       21.60176797, 21.47578952, 21.4510655 , 21.66528106, 21.56661548,\n",
              "       21.6732683 , 21.53473612, 21.30994006, 21.34435114, 21.3812698 ,\n",
              "       21.6732683 , 20.72584067, 21.72650902, 21.47946925, 21.20034599,\n",
              "       21.44567632, 21.65947717, 21.60347261, 21.47188855, 21.01459571,\n",
              "       21.08821688, 21.69922121, 21.42048617, 21.47578952, 21.65947717,\n",
              "       21.31253331, 21.54759113, 21.62936397, 21.57125786, 21.41138299,\n",
              "       21.44637753, 21.4225488 , 21.51004858, 21.51340939, 21.66418108,\n",
              "       21.49740356, 21.60623645, 21.41138299, 21.62942551, 21.65947717,\n",
              "       21.44567632, 21.1653674 , 21.5566943 , 21.47506999, 21.62936397,\n",
              "       21.16231046, 21.41138299, 21.60176797, 21.6595387 , 21.54752529,\n",
              "       21.59378073, 21.42261033, 21.6946912 , 21.22769534, 21.24756343,\n",
              "       21.60623645, 21.69915967, 21.41138299, 21.31423795, 21.63828972,\n",
              "       21.44397169, 21.53644075, 21.51547202, 21.38409518, 21.35335294,\n",
              "       21.56655394, 21.53644075, 21.53644075, 21.73225138, 21.41608691,\n",
              "       21.44637753, 21.41808032, 21.76619153, 21.51004858, 21.63415331,\n",
              "       21.38403364, 21.6946912 , 21.3918681 , 20.94756386, 21.56661548,\n",
              "       21.5937192 , 21.37896533, 21.74806153, 21.44137844, 21.72650902,\n",
              "       21.49571914, 21.31259485, 21.53473612, 21.53479765, 21.69639583,\n",
              "       21.6335858 , 21.72650902, 21.2095279 , 21.38403364, 21.20034599,\n",
              "       21.53473612, 21.37956517, 21.42048617, 21.53473612, 21.16066349,\n",
              "       21.44307826, 21.31253331, 21.31423795, 21.41808032, 21.47093358,\n",
              "       21.6732683 , 21.16066349, 21.62765934, 21.75820429, 21.63828972,\n",
              "       21.63828972, 21.62942551, 21.65345388, 21.22129354, 21.57125786,\n",
              "       21.51340939, 20.97415434, 21.35345431, 21.31423795, 21.73121294,\n",
              "       21.16066349, 21.1305503 , 20.90844886, 21.62765934, 20.90882711,\n",
              "       21.60623645, 21.58648356, 21.60347261, 21.6335858 , 21.34905505,\n",
              "       21.58250388, 21.51547202, 21.35345431, 21.41138299, 21.41608691,\n",
              "       21.75814275, 21.48958065, 21.60623645, 20.94364422, 21.56661548,\n",
              "       21.69209794, 21.13125151, 21.38409518, 21.97016296, 21.26268988,\n",
              "       21.34911659, 21.42048617, 21.82517461, 21.31253331, 21.34435114])"
            ]
          },
          "metadata": {},
          "execution_count": 41
        }
      ]
    },
    {
      "cell_type": "code",
      "source": [
        "from sklearn.metrics import mean_absolute_error, mean_absolute_percentage_error,mean_squared_error"
      ],
      "metadata": {
        "id": "3EGCRDiwrXAZ"
      },
      "execution_count": null,
      "outputs": []
    },
    {
      "cell_type": "code",
      "source": [
        "mean_absolute_error(y_test,y_pred)"
      ],
      "metadata": {
        "colab": {
          "base_uri": "https://localhost:8080/"
        },
        "id": "AiOmfTMarzLQ",
        "outputId": "a8b738d8-a3b9-48a7-e77d-078d15feffa3"
      },
      "execution_count": null,
      "outputs": [
        {
          "output_type": "execute_result",
          "data": {
            "text/plain": [
              "0.9108633042415678"
            ]
          },
          "metadata": {},
          "execution_count": 43
        }
      ]
    },
    {
      "cell_type": "code",
      "source": [
        "mean_absolute_percentage_error(y_test,y_pred)"
      ],
      "metadata": {
        "colab": {
          "base_uri": "https://localhost:8080/"
        },
        "id": "2Pir2Co3r--h",
        "outputId": "a1e587fc-e632-40e8-8ce8-9e436bb116c0"
      },
      "execution_count": null,
      "outputs": [
        {
          "output_type": "execute_result",
          "data": {
            "text/plain": [
              "0.04210078203798336"
            ]
          },
          "metadata": {},
          "execution_count": 44
        }
      ]
    },
    {
      "cell_type": "code",
      "source": [
        "mean_squared_error(y_test,y_pred)"
      ],
      "metadata": {
        "colab": {
          "base_uri": "https://localhost:8080/"
        },
        "id": "fE3zZkQEsI24",
        "outputId": "7421bdcd-398b-4b9b-f062-cd6639706d58"
      },
      "execution_count": null,
      "outputs": [
        {
          "output_type": "execute_result",
          "data": {
            "text/plain": [
              "1.5907445068826844"
            ]
          },
          "metadata": {},
          "execution_count": 45
        }
      ]
    },
    {
      "cell_type": "markdown",
      "source": [
        "## **Explaination**"
      ],
      "metadata": {
        "id": "aeH3JuEm0JTR"
      }
    },
    {
      "cell_type": "markdown",
      "source": [
        "\n",
        "\n",
        "College placement prediction is a data-driven process that uses historical data and machine learning to estimate a student's likelihood of finding a job or internship after graduation. It considers factors like academic performance, institution reputation, and industry trends to make informed projections. This predictive analysis guides students in career planning, helps institutions tailor their programs, and enhances resource allocation, ultimately improving placement rates and career services. It's a valuable tool for making informed decisions in the educational and career development journey."
      ],
      "metadata": {
        "id": "RjvkCUrC0RGD"
      }
    }
  ]
}